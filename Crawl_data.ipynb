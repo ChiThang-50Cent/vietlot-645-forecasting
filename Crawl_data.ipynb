{
  "nbformat": 4,
  "nbformat_minor": 0,
  "metadata": {
    "colab": {
      "provenance": [],
      "authorship_tag": "ABX9TyOfZYrqUZWMB9Tb7V4+QIAL",
      "include_colab_link": true
    },
    "kernelspec": {
      "name": "python3",
      "display_name": "Python 3"
    },
    "language_info": {
      "name": "python"
    }
  },
  "cells": [
    {
      "cell_type": "markdown",
      "metadata": {
        "id": "view-in-github",
        "colab_type": "text"
      },
      "source": [
        "<a href=\"https://colab.research.google.com/github/ChiThang-50Cent/vietlot-645-forecasting/blob/main/Crawl_data.ipynb\" target=\"_parent\"><img src=\"https://colab.research.google.com/assets/colab-badge.svg\" alt=\"Open In Colab\"/></a>"
      ]
    },
    {
      "cell_type": "code",
      "execution_count": null,
      "metadata": {
        "id": "iuk5SoZWG5h5"
      },
      "outputs": [],
      "source": [
        "import urllib.request\n",
        "import time\n",
        "import pandas as pd\n",
        "\n",
        "from bs4 import BeautifulSoup\n",
        "from IPython.display import clear_output"
      ]
    },
    {
      "cell_type": "code",
      "source": [
        "datas = []\n",
        "\n",
        "for i in range(1,1097):\n",
        "  row_data = []\n",
        "\n",
        "  id = str(i).zfill(5)\n",
        "  row_data.append(id)\n",
        "\n",
        "  try:\n",
        "    url = f'https://vietlott.vn/vi/trung-thuong/ket-qua-trung-thuong/645?id={id}&nocatche=1'\n",
        "    page = urllib.request.urlopen(url)\n",
        "    soup = BeautifulSoup(page, 'html.parser')\n",
        "\n",
        "    numbers = soup.find_all('span', class_='bong_tron')\n",
        "    for number in numbers:\n",
        "        row_data.append(number.getText())\n",
        "\n",
        "    date = soup.select_one('#divLeftContent > div > div.header > div > div > h5 > b:nth-child(2)').getText()\n",
        "\n",
        "    row_data.append(date)\n",
        "  except:\n",
        "    print('Lỗi đm')\n",
        "  datas.append(row_data)\n",
        "  print((i/1096)*100)\n",
        "  clear_output(wait=True)\n",
        "  time.sleep(1)"
      ],
      "metadata": {
        "id": "xH_djjYlHWyS"
      },
      "execution_count": null,
      "outputs": []
    },
    {
      "cell_type": "code",
      "source": [
        "len(datas)"
      ],
      "metadata": {
        "id": "AM7jgvv4HYk9"
      },
      "execution_count": null,
      "outputs": []
    },
    {
      "cell_type": "code",
      "source": [
        "df = pd.DataFrame(datas)\n",
        "columns = ['Id', 'N1', 'N2','N3','N4','N5','N6','Date']\n",
        "df.columns = columns"
      ],
      "metadata": {
        "id": "NYMDCnRVHe2g"
      },
      "execution_count": null,
      "outputs": []
    },
    {
      "cell_type": "code",
      "source": [
        "df.to_csv('vietlot645.csv', index=False)"
      ],
      "metadata": {
        "id": "O9Q9VJxxHj9J"
      },
      "execution_count": null,
      "outputs": []
    }
  ]
}