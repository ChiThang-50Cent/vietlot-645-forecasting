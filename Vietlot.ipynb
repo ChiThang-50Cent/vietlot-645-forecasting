{
  "nbformat": 4,
  "nbformat_minor": 0,
  "metadata": {
    "colab": {
      "provenance": [],
      "authorship_tag": "ABX9TyO5FecT9tf1ZwAefo+YQslb",
      "include_colab_link": true
    },
    "kernelspec": {
      "name": "python3",
      "display_name": "Python 3"
    },
    "language_info": {
      "name": "python"
    }
  },
  "cells": [
    {
      "cell_type": "markdown",
      "metadata": {
        "id": "view-in-github",
        "colab_type": "text"
      },
      "source": [
        "<a href=\"https://colab.research.google.com/github/ChiThang-50Cent/vietlot-645-forecasting/blob/main/Vietlot.ipynb\" target=\"_parent\"><img src=\"https://colab.research.google.com/assets/colab-badge.svg\" alt=\"Open In Colab\"/></a>"
      ]
    },
    {
      "cell_type": "markdown",
      "source": [
        "# Analyst"
      ],
      "metadata": {
        "id": "wa1jtK_ZElmE"
      }
    },
    {
      "cell_type": "code",
      "source": [
        "!wget https://raw.githubusercontent.com/ChiThang-50Cent/vietlot-645-forecasting/main/vietlot645.csv"
      ],
      "metadata": {
        "colab": {
          "base_uri": "https://localhost:8080/"
        },
        "id": "cSX-yfJZH7Ax",
        "outputId": "3f0b1ae1-1266-48a6-8f4c-00d5df6a2d03"
      },
      "execution_count": null,
      "outputs": [
        {
          "output_type": "stream",
          "name": "stdout",
          "text": [
            "--2023-09-28 15:15:06--  https://raw.githubusercontent.com/ChiThang-50Cent/vietlot-645-forecasting/main/vietlot645.csv\n",
            "Resolving raw.githubusercontent.com (raw.githubusercontent.com)... 185.199.109.133, 185.199.111.133, 185.199.108.133, ...\n",
            "Connecting to raw.githubusercontent.com (raw.githubusercontent.com)|185.199.109.133|:443... connected.\n",
            "HTTP request sent, awaiting response... 200 OK\n",
            "Length: 35294 (34K) [text/plain]\n",
            "Saving to: ‘vietlot645.csv.6’\n",
            "\n",
            "\rvietlot645.csv.6      0%[                    ]       0  --.-KB/s               \rvietlot645.csv.6    100%[===================>]  34.47K  --.-KB/s    in 0.01s   \n",
            "\n",
            "2023-09-28 15:15:06 (2.71 MB/s) - ‘vietlot645.csv.6’ saved [35294/35294]\n",
            "\n"
          ]
        }
      ]
    },
    {
      "cell_type": "code",
      "source": [
        "import pdb;"
      ],
      "metadata": {
        "id": "WrgfGV1nKAVu"
      },
      "execution_count": null,
      "outputs": []
    },
    {
      "cell_type": "code",
      "source": [
        "import pandas as pd\n",
        "import numpy as np\n",
        "import seaborn as sns\n",
        "import matplotlib.pyplot as plt\n",
        "from sklearn.preprocessing import StandardScaler"
      ],
      "metadata": {
        "id": "5FxsFiTGEJvz"
      },
      "execution_count": null,
      "outputs": []
    },
    {
      "cell_type": "code",
      "source": [
        "import torch\n",
        "import torch.nn as nn\n",
        "from torch.utils.data import Dataset\n",
        "from torch.utils.data import DataLoader"
      ],
      "metadata": {
        "id": "W9iryRtqU50y"
      },
      "execution_count": null,
      "outputs": []
    },
    {
      "cell_type": "code",
      "source": [
        "df = pd.read_csv('vietlot645.csv')"
      ],
      "metadata": {
        "id": "Yt3PkThlEK6b"
      },
      "execution_count": null,
      "outputs": []
    },
    {
      "cell_type": "code",
      "source": [
        "df.head()"
      ],
      "metadata": {
        "colab": {
          "base_uri": "https://localhost:8080/",
          "height": 206
        },
        "id": "7K3LRty2ENYf",
        "outputId": "2e1cecdc-3913-4cfd-c85f-f5a381bc725d"
      },
      "execution_count": null,
      "outputs": [
        {
          "output_type": "execute_result",
          "data": {
            "text/plain": [
              "   Id  N1  N2  N3  N4  N5  N6        Date\n",
              "0   1   2  17  33  37  38  45  20/07/2016\n",
              "1   2   3   4  14  20  25  35  22/07/2016\n",
              "2   3   1  10  16  18  23  38  24/07/2016\n",
              "3   4  14  17  21  25  31  37  27/07/2016\n",
              "4   5   3   8  13  20  30  36  29/07/2016"
            ],
            "text/html": [
              "\n",
              "  <div id=\"df-4085c0da-2172-4a2e-93c9-61bca4c7d5d4\" class=\"colab-df-container\">\n",
              "    <div>\n",
              "<style scoped>\n",
              "    .dataframe tbody tr th:only-of-type {\n",
              "        vertical-align: middle;\n",
              "    }\n",
              "\n",
              "    .dataframe tbody tr th {\n",
              "        vertical-align: top;\n",
              "    }\n",
              "\n",
              "    .dataframe thead th {\n",
              "        text-align: right;\n",
              "    }\n",
              "</style>\n",
              "<table border=\"1\" class=\"dataframe\">\n",
              "  <thead>\n",
              "    <tr style=\"text-align: right;\">\n",
              "      <th></th>\n",
              "      <th>Id</th>\n",
              "      <th>N1</th>\n",
              "      <th>N2</th>\n",
              "      <th>N3</th>\n",
              "      <th>N4</th>\n",
              "      <th>N5</th>\n",
              "      <th>N6</th>\n",
              "      <th>Date</th>\n",
              "    </tr>\n",
              "  </thead>\n",
              "  <tbody>\n",
              "    <tr>\n",
              "      <th>0</th>\n",
              "      <td>1</td>\n",
              "      <td>2</td>\n",
              "      <td>17</td>\n",
              "      <td>33</td>\n",
              "      <td>37</td>\n",
              "      <td>38</td>\n",
              "      <td>45</td>\n",
              "      <td>20/07/2016</td>\n",
              "    </tr>\n",
              "    <tr>\n",
              "      <th>1</th>\n",
              "      <td>2</td>\n",
              "      <td>3</td>\n",
              "      <td>4</td>\n",
              "      <td>14</td>\n",
              "      <td>20</td>\n",
              "      <td>25</td>\n",
              "      <td>35</td>\n",
              "      <td>22/07/2016</td>\n",
              "    </tr>\n",
              "    <tr>\n",
              "      <th>2</th>\n",
              "      <td>3</td>\n",
              "      <td>1</td>\n",
              "      <td>10</td>\n",
              "      <td>16</td>\n",
              "      <td>18</td>\n",
              "      <td>23</td>\n",
              "      <td>38</td>\n",
              "      <td>24/07/2016</td>\n",
              "    </tr>\n",
              "    <tr>\n",
              "      <th>3</th>\n",
              "      <td>4</td>\n",
              "      <td>14</td>\n",
              "      <td>17</td>\n",
              "      <td>21</td>\n",
              "      <td>25</td>\n",
              "      <td>31</td>\n",
              "      <td>37</td>\n",
              "      <td>27/07/2016</td>\n",
              "    </tr>\n",
              "    <tr>\n",
              "      <th>4</th>\n",
              "      <td>5</td>\n",
              "      <td>3</td>\n",
              "      <td>8</td>\n",
              "      <td>13</td>\n",
              "      <td>20</td>\n",
              "      <td>30</td>\n",
              "      <td>36</td>\n",
              "      <td>29/07/2016</td>\n",
              "    </tr>\n",
              "  </tbody>\n",
              "</table>\n",
              "</div>\n",
              "    <div class=\"colab-df-buttons\">\n",
              "\n",
              "  <div class=\"colab-df-container\">\n",
              "    <button class=\"colab-df-convert\" onclick=\"convertToInteractive('df-4085c0da-2172-4a2e-93c9-61bca4c7d5d4')\"\n",
              "            title=\"Convert this dataframe to an interactive table.\"\n",
              "            style=\"display:none;\">\n",
              "\n",
              "  <svg xmlns=\"http://www.w3.org/2000/svg\" height=\"24px\" viewBox=\"0 -960 960 960\">\n",
              "    <path d=\"M120-120v-720h720v720H120Zm60-500h600v-160H180v160Zm220 220h160v-160H400v160Zm0 220h160v-160H400v160ZM180-400h160v-160H180v160Zm440 0h160v-160H620v160ZM180-180h160v-160H180v160Zm440 0h160v-160H620v160Z\"/>\n",
              "  </svg>\n",
              "    </button>\n",
              "\n",
              "  <style>\n",
              "    .colab-df-container {\n",
              "      display:flex;\n",
              "      gap: 12px;\n",
              "    }\n",
              "\n",
              "    .colab-df-convert {\n",
              "      background-color: #E8F0FE;\n",
              "      border: none;\n",
              "      border-radius: 50%;\n",
              "      cursor: pointer;\n",
              "      display: none;\n",
              "      fill: #1967D2;\n",
              "      height: 32px;\n",
              "      padding: 0 0 0 0;\n",
              "      width: 32px;\n",
              "    }\n",
              "\n",
              "    .colab-df-convert:hover {\n",
              "      background-color: #E2EBFA;\n",
              "      box-shadow: 0px 1px 2px rgba(60, 64, 67, 0.3), 0px 1px 3px 1px rgba(60, 64, 67, 0.15);\n",
              "      fill: #174EA6;\n",
              "    }\n",
              "\n",
              "    .colab-df-buttons div {\n",
              "      margin-bottom: 4px;\n",
              "    }\n",
              "\n",
              "    [theme=dark] .colab-df-convert {\n",
              "      background-color: #3B4455;\n",
              "      fill: #D2E3FC;\n",
              "    }\n",
              "\n",
              "    [theme=dark] .colab-df-convert:hover {\n",
              "      background-color: #434B5C;\n",
              "      box-shadow: 0px 1px 3px 1px rgba(0, 0, 0, 0.15);\n",
              "      filter: drop-shadow(0px 1px 2px rgba(0, 0, 0, 0.3));\n",
              "      fill: #FFFFFF;\n",
              "    }\n",
              "  </style>\n",
              "\n",
              "    <script>\n",
              "      const buttonEl =\n",
              "        document.querySelector('#df-4085c0da-2172-4a2e-93c9-61bca4c7d5d4 button.colab-df-convert');\n",
              "      buttonEl.style.display =\n",
              "        google.colab.kernel.accessAllowed ? 'block' : 'none';\n",
              "\n",
              "      async function convertToInteractive(key) {\n",
              "        const element = document.querySelector('#df-4085c0da-2172-4a2e-93c9-61bca4c7d5d4');\n",
              "        const dataTable =\n",
              "          await google.colab.kernel.invokeFunction('convertToInteractive',\n",
              "                                                    [key], {});\n",
              "        if (!dataTable) return;\n",
              "\n",
              "        const docLinkHtml = 'Like what you see? Visit the ' +\n",
              "          '<a target=\"_blank\" href=https://colab.research.google.com/notebooks/data_table.ipynb>data table notebook</a>'\n",
              "          + ' to learn more about interactive tables.';\n",
              "        element.innerHTML = '';\n",
              "        dataTable['output_type'] = 'display_data';\n",
              "        await google.colab.output.renderOutput(dataTable, element);\n",
              "        const docLink = document.createElement('div');\n",
              "        docLink.innerHTML = docLinkHtml;\n",
              "        element.appendChild(docLink);\n",
              "      }\n",
              "    </script>\n",
              "  </div>\n",
              "\n",
              "\n",
              "<div id=\"df-c678c5b4-8b9e-412e-8747-dc5b2cd3d703\">\n",
              "  <button class=\"colab-df-quickchart\" onclick=\"quickchart('df-c678c5b4-8b9e-412e-8747-dc5b2cd3d703')\"\n",
              "            title=\"Suggest charts.\"\n",
              "            style=\"display:none;\">\n",
              "\n",
              "<svg xmlns=\"http://www.w3.org/2000/svg\" height=\"24px\"viewBox=\"0 0 24 24\"\n",
              "     width=\"24px\">\n",
              "    <g>\n",
              "        <path d=\"M19 3H5c-1.1 0-2 .9-2 2v14c0 1.1.9 2 2 2h14c1.1 0 2-.9 2-2V5c0-1.1-.9-2-2-2zM9 17H7v-7h2v7zm4 0h-2V7h2v10zm4 0h-2v-4h2v4z\"/>\n",
              "    </g>\n",
              "</svg>\n",
              "  </button>\n",
              "\n",
              "<style>\n",
              "  .colab-df-quickchart {\n",
              "      --bg-color: #E8F0FE;\n",
              "      --fill-color: #1967D2;\n",
              "      --hover-bg-color: #E2EBFA;\n",
              "      --hover-fill-color: #174EA6;\n",
              "      --disabled-fill-color: #AAA;\n",
              "      --disabled-bg-color: #DDD;\n",
              "  }\n",
              "\n",
              "  [theme=dark] .colab-df-quickchart {\n",
              "      --bg-color: #3B4455;\n",
              "      --fill-color: #D2E3FC;\n",
              "      --hover-bg-color: #434B5C;\n",
              "      --hover-fill-color: #FFFFFF;\n",
              "      --disabled-bg-color: #3B4455;\n",
              "      --disabled-fill-color: #666;\n",
              "  }\n",
              "\n",
              "  .colab-df-quickchart {\n",
              "    background-color: var(--bg-color);\n",
              "    border: none;\n",
              "    border-radius: 50%;\n",
              "    cursor: pointer;\n",
              "    display: none;\n",
              "    fill: var(--fill-color);\n",
              "    height: 32px;\n",
              "    padding: 0;\n",
              "    width: 32px;\n",
              "  }\n",
              "\n",
              "  .colab-df-quickchart:hover {\n",
              "    background-color: var(--hover-bg-color);\n",
              "    box-shadow: 0 1px 2px rgba(60, 64, 67, 0.3), 0 1px 3px 1px rgba(60, 64, 67, 0.15);\n",
              "    fill: var(--button-hover-fill-color);\n",
              "  }\n",
              "\n",
              "  .colab-df-quickchart-complete:disabled,\n",
              "  .colab-df-quickchart-complete:disabled:hover {\n",
              "    background-color: var(--disabled-bg-color);\n",
              "    fill: var(--disabled-fill-color);\n",
              "    box-shadow: none;\n",
              "  }\n",
              "\n",
              "  .colab-df-spinner {\n",
              "    border: 2px solid var(--fill-color);\n",
              "    border-color: transparent;\n",
              "    border-bottom-color: var(--fill-color);\n",
              "    animation:\n",
              "      spin 1s steps(1) infinite;\n",
              "  }\n",
              "\n",
              "  @keyframes spin {\n",
              "    0% {\n",
              "      border-color: transparent;\n",
              "      border-bottom-color: var(--fill-color);\n",
              "      border-left-color: var(--fill-color);\n",
              "    }\n",
              "    20% {\n",
              "      border-color: transparent;\n",
              "      border-left-color: var(--fill-color);\n",
              "      border-top-color: var(--fill-color);\n",
              "    }\n",
              "    30% {\n",
              "      border-color: transparent;\n",
              "      border-left-color: var(--fill-color);\n",
              "      border-top-color: var(--fill-color);\n",
              "      border-right-color: var(--fill-color);\n",
              "    }\n",
              "    40% {\n",
              "      border-color: transparent;\n",
              "      border-right-color: var(--fill-color);\n",
              "      border-top-color: var(--fill-color);\n",
              "    }\n",
              "    60% {\n",
              "      border-color: transparent;\n",
              "      border-right-color: var(--fill-color);\n",
              "    }\n",
              "    80% {\n",
              "      border-color: transparent;\n",
              "      border-right-color: var(--fill-color);\n",
              "      border-bottom-color: var(--fill-color);\n",
              "    }\n",
              "    90% {\n",
              "      border-color: transparent;\n",
              "      border-bottom-color: var(--fill-color);\n",
              "    }\n",
              "  }\n",
              "</style>\n",
              "\n",
              "  <script>\n",
              "    async function quickchart(key) {\n",
              "      const quickchartButtonEl =\n",
              "        document.querySelector('#' + key + ' button');\n",
              "      quickchartButtonEl.disabled = true;  // To prevent multiple clicks.\n",
              "      quickchartButtonEl.classList.add('colab-df-spinner');\n",
              "      try {\n",
              "        const charts = await google.colab.kernel.invokeFunction(\n",
              "            'suggestCharts', [key], {});\n",
              "      } catch (error) {\n",
              "        console.error('Error during call to suggestCharts:', error);\n",
              "      }\n",
              "      quickchartButtonEl.classList.remove('colab-df-spinner');\n",
              "      quickchartButtonEl.classList.add('colab-df-quickchart-complete');\n",
              "    }\n",
              "    (() => {\n",
              "      let quickchartButtonEl =\n",
              "        document.querySelector('#df-c678c5b4-8b9e-412e-8747-dc5b2cd3d703 button');\n",
              "      quickchartButtonEl.style.display =\n",
              "        google.colab.kernel.accessAllowed ? 'block' : 'none';\n",
              "    })();\n",
              "  </script>\n",
              "</div>\n",
              "    </div>\n",
              "  </div>\n"
            ]
          },
          "metadata": {},
          "execution_count": 39
        }
      ]
    },
    {
      "cell_type": "code",
      "source": [
        "df2 = pd.concat([df[col] for col in ['N1', 'N2','N3','N4','N5','N6']], axis=0)"
      ],
      "metadata": {
        "id": "eHaJkFo8EUTL"
      },
      "execution_count": null,
      "outputs": []
    },
    {
      "cell_type": "code",
      "source": [
        "order_df2 = df2.value_counts().sort_values().index[::-1]"
      ],
      "metadata": {
        "id": "2_s6VzRvEX3r"
      },
      "execution_count": null,
      "outputs": []
    },
    {
      "cell_type": "code",
      "source": [
        "sns.countplot(x=df2, order=order_df2)\n",
        "plt.xticks(rotation=90)\n",
        "plt.show()"
      ],
      "metadata": {
        "colab": {
          "base_uri": "https://localhost:8080/",
          "height": 434
        },
        "id": "xUxYkDJrEYzA",
        "outputId": "b0e94ea3-30d3-4b47-fb3e-5261656beb9e"
      },
      "execution_count": null,
      "outputs": [
        {
          "output_type": "display_data",
          "data": {
            "text/plain": [
              "<Figure size 640x480 with 1 Axes>"
            ],
            "image/png": "[encoded data removed]"
          },
          "metadata": {}
        }
      ]
    },
    {
      "cell_type": "code",
      "source": [
        "df['Date'] = pd.to_datetime(df['Date'], format='%d/%m/%Y')"
      ],
      "metadata": {
        "id": "TitztLPB5wVo"
      },
      "execution_count": null,
      "outputs": []
    },
    {
      "cell_type": "code",
      "source": [
        "df['Day'] = df['Date'].dt.day\n",
        "df['Month'] = df['Date'].dt.month\n",
        "df['Year'] = df['Date'].dt.year"
      ],
      "metadata": {
        "id": "w9_LQCkQ50IY"
      },
      "execution_count": null,
      "outputs": []
    },
    {
      "cell_type": "code",
      "source": [
        "count_exist = sorted(df2.unique())\n",
        "count_exist = list(map(str, count_exist))"
      ],
      "metadata": {
        "id": "nGDfuLWSK8KT"
      },
      "execution_count": null,
      "outputs": []
    },
    {
      "cell_type": "code",
      "source": [
        "temp = np.zeros((len(df.index), len(count_exist)))\n",
        "temp = pd.DataFrame(temp, columns=count_exist)"
      ],
      "metadata": {
        "id": "q5I0v_e1RgkN"
      },
      "execution_count": null,
      "outputs": []
    },
    {
      "cell_type": "code",
      "source": [
        "dict_ = dict.fromkeys(count_exist, 0)"
      ],
      "metadata": {
        "id": "GsA9th9Kb3dg"
      },
      "execution_count": null,
      "outputs": []
    },
    {
      "cell_type": "code",
      "source": [
        "new_df = pd.concat([df, temp], axis=1)"
      ],
      "metadata": {
        "id": "NHM5PF4rceDn"
      },
      "execution_count": null,
      "outputs": []
    },
    {
      "cell_type": "code",
      "source": [
        "new_df.columns"
      ],
      "metadata": {
        "colab": {
          "base_uri": "https://localhost:8080/"
        },
        "id": "tcUbbOvkcmbL",
        "outputId": "95309bda-8fcf-4546-cf87-21fc262fe198"
      },
      "execution_count": null,
      "outputs": [
        {
          "output_type": "execute_result",
          "data": {
            "text/plain": [
              "Index(['Id', 'N1', 'N2', 'N3', 'N4', 'N5', 'N6', 'Date', 'Day', 'Month',\n",
              "       'Year', '1', '2', '3', '4', '5', '6', '7', '8', '9', '10', '11', '12',\n",
              "       '13', '14', '15', '16', '17', '18', '19', '20', '21', '22', '23', '24',\n",
              "       '25', '26', '27', '28', '29', '30', '31', '32', '33', '34', '35', '36',\n",
              "       '37', '38', '39', '40', '41', '42', '43', '44', '45'],\n",
              "      dtype='object')"
            ]
          },
          "metadata": {},
          "execution_count": 49
        }
      ]
    },
    {
      "cell_type": "code",
      "source": [
        "def count_(series):\n",
        "    for index in ['N1', 'N2','N3','N4','N5','N6']:\n",
        "      dict_[str(series.loc[index])] += 1\n",
        "\n",
        "    for col in count_exist:\n",
        "        series.loc[col] = dict_[col]\n",
        "    return series"
      ],
      "metadata": {
        "id": "UdDQsxP_RizX"
      },
      "execution_count": null,
      "outputs": []
    },
    {
      "cell_type": "code",
      "source": [
        "new_df = new_df.apply(count_, axis=1)"
      ],
      "metadata": {
        "id": "_NXH7DjSTHTc"
      },
      "execution_count": null,
      "outputs": []
    },
    {
      "cell_type": "code",
      "source": [
        "seq_data = new_df[['N1', 'N2','N3','N4','N5','N6']].values"
      ],
      "metadata": {
        "id": "-ICk3mCyyeRt"
      },
      "execution_count": null,
      "outputs": []
    },
    {
      "cell_type": "code",
      "source": [
        "seq_data = torch.tensor(seq_data, dtype=torch.float32)"
      ],
      "metadata": {
        "id": "_kQ4gNgeTEEc"
      },
      "execution_count": null,
      "outputs": []
    },
    {
      "cell_type": "code",
      "source": [
        "features = new_df[['Id', 'Day', 'Month', 'Year', '1', '2', '3', '4', '5', '6',\n",
        "                   '7', '8', '9', '10', '11', '12', '13', '14', '15', '16',\n",
        "                   '17', '18', '19', '20', '21', '22', '23', '24',\n",
        "                  '25', '26', '27', '28', '29', '30', '31', '32', '33', '34', '35', '36',\n",
        "                  '37', '38', '39', '40', '41', '42', '43', '44', '45']].values"
      ],
      "metadata": {
        "id": "HCidXIAzzUFA"
      },
      "execution_count": null,
      "outputs": []
    },
    {
      "cell_type": "code",
      "source": [
        "features = StandardScaler().fit_transform(features)"
      ],
      "metadata": {
        "id": "zxMUk86FVUzY"
      },
      "execution_count": null,
      "outputs": []
    },
    {
      "cell_type": "code",
      "source": [
        "features = torch.tensor(features, dtype=torch.float32)"
      ],
      "metadata": {
        "id": "Y8xuE7lNVtkY"
      },
      "execution_count": null,
      "outputs": []
    },
    {
      "cell_type": "code",
      "source": [
        "len(seq_data), len(features)"
      ],
      "metadata": {
        "colab": {
          "base_uri": "https://localhost:8080/"
        },
        "id": "E6aVkpbIyqpF",
        "outputId": "eac8def6-6801-429e-fa68-c3e7b5c3835f"
      },
      "execution_count": null,
      "outputs": [
        {
          "output_type": "execute_result",
          "data": {
            "text/plain": [
              "(1096, 1096)"
            ]
          },
          "metadata": {},
          "execution_count": 57
        }
      ]
    },
    {
      "cell_type": "code",
      "source": [
        "class Seq_dataset(Dataset):\n",
        "  def __init__(self, data_seq, data_fea, seq_length):\n",
        "    self.data_seq = data_seq\n",
        "    self.data_fea = data_fea\n",
        "    self.seq_length = seq_length\n",
        "  def __len__(self):\n",
        "    return len(self.data_seq) - self.seq_length\n",
        "  def __getitem__(self, index):\n",
        "    X1 = self.data_seq[index: index + self.seq_length]\n",
        "    X2 = self.data_fea[index + self.seq_length]\n",
        "    y = self.data_seq[index + self.seq_length]\n",
        "    return X1, X2, y"
      ],
      "metadata": {
        "id": "b0e-MmPFryBu"
      },
      "execution_count": null,
      "outputs": []
    },
    {
      "cell_type": "code",
      "source": [
        "temp_ = Seq_dataset(seq_data, features, 12)"
      ],
      "metadata": {
        "id": "mA6_5VL3BQXw"
      },
      "execution_count": null,
      "outputs": []
    },
    {
      "cell_type": "code",
      "source": [
        "data_loader = DataLoader(temp_, batch_size=32, shuffle=True)"
      ],
      "metadata": {
        "id": "Ox3CIBu5Por1"
      },
      "execution_count": null,
      "outputs": []
    },
    {
      "cell_type": "code",
      "source": [
        "class RNN(nn.Module):\n",
        "  def __init__(self, input_size, output_size, hidden_dim, n_layers):\n",
        "    super(RNN, self).__init__()\n",
        "\n",
        "    self.hidden_dim = hidden_dim\n",
        "    self.n_layers = n_layers\n",
        "\n",
        "    self.rnn = nn.RNN(input_size, hidden_dim, n_layers, batch_first=True)\n",
        "    self.fc = nn.Linear(hidden_dim, output_size)\n",
        "\n",
        "  def forward(self, x):\n",
        "    batch_size = x.size(0)\n",
        "\n",
        "    hidden = self.init_hidden(batch_size)\n",
        "\n",
        "    out, hidden = self.rnn(x, hidden)\n",
        "\n",
        "    out = out.contiguous().view(-1, self.hidden_dim)\n",
        "    out = self.fc(out)\n",
        "\n",
        "    return out, hidden\n",
        "\n",
        "  def init_hidden(self, batch_size):\n",
        "    hidden = torch.zeros((self.n_layers, batch_size, self.hidden_dim))\n",
        "    return hidden"
      ],
      "metadata": {
        "id": "msEJBKIc4bZb"
      },
      "execution_count": null,
      "outputs": []
    },
    {
      "cell_type": "code",
      "source": [
        "class DNN(nn.Module):\n",
        "  def __init__(self, input_size, output_size):\n",
        "    super(DNN, self).__init__()\n",
        "    self.fc = nn.Linear(input_size, output_size)\n",
        "\n",
        "  def forward(self, x):\n",
        "    out = torch.relu(self.fc(x))\n",
        "    return out"
      ],
      "metadata": {
        "id": "9JEidWpuEB99"
      },
      "execution_count": null,
      "outputs": []
    },
    {
      "cell_type": "code",
      "source": [
        "class Model(nn.Module):\n",
        "  def __init__(self, RNN, DNN):\n",
        "    super(Model, self).__init__()\n",
        "\n",
        "    self.rnn = RNN\n",
        "    self.dnn = DNN\n",
        "    self.fc = nn.Linear(76, 6)\n",
        "\n",
        "  def forward(self, x1, x2):\n",
        "    out_1, hidden = self.rnn(x1)\n",
        "    out_2 = self.dnn(x2)\n",
        "\n",
        "    out_1 = out_1.view(out_2.size(0), -1)\n",
        "\n",
        "    x = torch.cat((out_1, out_2), dim=1)\n",
        "    x = self.fc(x)\n",
        "\n",
        "    return x"
      ],
      "metadata": {
        "id": "0wpvS4GG21ia"
      },
      "execution_count": null,
      "outputs": []
    },
    {
      "cell_type": "code",
      "source": [
        "def training_loop(n_epochs, optimizer, model, loss_fn, data_loader):\n",
        "  for epoch in range(1, n_epochs + 1):\n",
        "    losses = []\n",
        "\n",
        "    for x1, x2, y in data_loader:\n",
        "\n",
        "      out = model(x1, x2)\n",
        "      loss = loss_fn(out, y)\n",
        "\n",
        "      optimizer.zero_grad()\n",
        "      loss.backward()\n",
        "      optimizer.step()\n",
        "\n",
        "      losses.append(loss.item())\n",
        "\n",
        "    print(epoch, n_epochs, float(loss))"
      ],
      "metadata": {
        "id": "GrjWQuTCNUB3"
      },
      "execution_count": null,
      "outputs": []
    },
    {
      "cell_type": "code",
      "source": [
        "rnn = RNN(input_size=6, output_size=4, hidden_dim=4, n_layers=1)\n",
        "dnn = DNN(input_size=49, output_size=28)\n",
        "\n",
        "model = Model(rnn, dnn)\n",
        "optimizer = torch.optim.SGD(model.parameters(), lr=1e-2)\n",
        "loss_fn = nn.MSELoss()"
      ],
      "metadata": {
        "id": "3A9ZTkpwsy2T"
      },
      "execution_count": null,
      "outputs": []
    },
    {
      "cell_type": "code",
      "source": [
        "training_loop(\n",
        "    n_epochs=20,\n",
        "    optimizer=optimizer,\n",
        "    model=model,\n",
        "    loss_fn=loss_fn,\n",
        "    data_loader=data_loader\n",
        ")"
      ],
      "metadata": {
        "colab": {
          "base_uri": "https://localhost:8080/"
        },
        "id": "AmKeGI0KQ68P",
        "outputId": "57b5ec57-2a7f-4a71-eebe-f5f34a0c8da1"
      },
      "execution_count": null,
      "outputs": [
        {
          "output_type": "stream",
          "name": "stdout",
          "text": [
            "1 20 43.60730743408203\n",
            "2 20 48.45248794555664\n",
            "3 20 36.91109085083008\n",
            "4 20 41.745826721191406\n",
            "5 20 40.73054885864258\n",
            "6 20 58.94823455810547\n",
            "7 20 49.8690071105957\n",
            "8 20 37.873802185058594\n",
            "9 20 44.581695556640625\n",
            "10 20 49.961639404296875\n",
            "11 20 50.642391204833984\n",
            "12 20 39.474369049072266\n",
            "13 20 49.86110305786133\n",
            "14 20 44.92387008666992\n",
            "15 20 51.33370590209961\n",
            "16 20 46.09192657470703\n",
            "17 20 55.79863739013672\n",
            "18 20 43.885467529296875\n",
            "19 20 51.40926742553711\n",
            "20 20 29.53347396850586\n"
          ]
        }
      ]
    },
    {
      "cell_type": "code",
      "source": [
        "model.eval()"
      ],
      "metadata": {
        "id": "o-qw6IVJTm2M",
        "colab": {
          "base_uri": "https://localhost:8080/"
        },
        "outputId": "6a1ce579-f85c-4bfc-9d62-5cc20ade0b32"
      },
      "execution_count": null,
      "outputs": [
        {
          "output_type": "execute_result",
          "data": {
            "text/plain": [
              "Model(\n",
              "  (rnn): RNN(\n",
              "    (rnn): RNN(6, 4, batch_first=True)\n",
              "    (fc): Linear(in_features=4, out_features=4, bias=True)\n",
              "  )\n",
              "  (dnn): DNN(\n",
              "    (fc): Linear(in_features=49, out_features=28, bias=True)\n",
              "  )\n",
              "  (fc): Linear(in_features=76, out_features=6, bias=True)\n",
              ")"
            ]
          },
          "metadata": {},
          "execution_count": 68
        }
      ]
    },
    {
      "cell_type": "code",
      "source": [],
      "metadata": {
        "id": "P1KXnmtbZjIF"
      },
      "execution_count": null,
      "outputs": []
    },
    {
      "cell_type": "code",
      "source": [
        "with torch.no_grad():\n",
        "  x1_, x2_, y = next(iter(data_loader))\n",
        "  y_1 = model(x1_, x2_)\n",
        "\n",
        "  for i in range(len(y)):\n",
        "    print(y_1[i].numpy().astype(int), y[i].numpy().astype(int))"
      ],
      "metadata": {
        "colab": {
          "base_uri": "https://localhost:8080/"
        },
        "id": "3qEUZZLOZleG",
        "outputId": "175a260b-329d-40ba-b1ca-9756c773b374"
      },
      "execution_count": null,
      "outputs": [
        {
          "output_type": "stream",
          "name": "stdout",
          "text": [
            "[ 7 13 21 30 36 44] [19 24 31 32 35 36]\n",
            "[ 6 12 20 29 36 43] [11 14 22 26 29 44]\n",
            "[ 5 11 19 26 32 40] [ 4 16 19 27 29 30]\n",
            "[ 5 11 19 29 35 43] [ 9 19 24 37 38 45]\n",
            "[ 7 13 21 30 38 45] [ 8 18 30 32 38 45]\n",
            "[ 6 12 19 28 35 42] [ 5 10 29 37 42 44]\n",
            "[ 5 12 19 26 32 40] [ 5 13 21 27 29 45]\n",
            "[ 6 12 20 29 35 43] [ 5 11 17 34 38 42]\n",
            "[ 5 11 19 26 32 40] [ 1  9 18 28 36 44]\n",
            "[ 5 11 19 28 35 43] [ 8 16 22 23 28 38]\n",
            "[ 7 13 21 30 37 45] [ 7  8 30 35 40 44]\n",
            "[ 5 11 19 27 33 41] [ 1  4 14 36 37 41]\n",
            "[ 7 13 20 29 35 43] [ 2  3  9 15 17 43]\n",
            "[ 7 13 21 30 38 45] [ 5 14 18 19 29 31]\n",
            "[ 5 11 19 26 32 40] [12 18 31 34 35 42]\n",
            "[ 5 11 19 26 31 39] [ 1  4  9 26 35 39]\n",
            "[ 7 13 21 30 36 44] [ 3 14 20 22 37 44]\n",
            "[ 6 13 22 31 38 46] [ 3  5  7 37 39 42]\n",
            "[ 7 14 21 30 36 44] [ 2  3 16 19 22 34]\n",
            "[ 6 13 20 29 36 43] [ 3  5  6  9 28 43]\n",
            "[ 6 12 20 28 35 42] [ 1  3  7 12 22 25]\n",
            "[ 5 12 19 26 32 39] [19 23 26 37 38 41]\n",
            "[ 6 12 20 29 35 42] [ 6  7 11 16 23 44]\n",
            "[ 6 12 20 29 35 43] [ 6 20 23 29 34 45]\n",
            "[ 5 11 18 25 31 39] [ 6  8 25 39 40 45]\n",
            "[ 5 11 19 27 34 41] [ 2 10 19 22 24 29]\n",
            "[ 6 12 20 29 36 44] [ 3  7  8 18 27 36]\n",
            "[ 5 11 19 26 33 40] [18 21 24 26 39 45]\n",
            "[ 6 12 19 26 32 40] [11 19 30 36 38 40]\n",
            "[ 5 11 19 29 35 43] [11 13 19 27 37 41]\n",
            "[ 7 13 21 29 36 43] [ 3 17 28 30 31 32]\n",
            "[ 6 12 20 28 35 42] [ 7 21 34 38 43 44]\n"
          ]
        }
      ]
    },
    {
      "cell_type": "code",
      "source": [],
      "metadata": {
        "id": "oLP-ECj1ZrsQ"
      },
      "execution_count": null,
      "outputs": []
    }
  ]
}